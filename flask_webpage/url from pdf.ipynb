{
 "cells": [
  {
   "cell_type": "code",
   "execution_count": 1,
   "metadata": {},
   "outputs": [],
   "source": [
    "# pip install pdfminer\n",
    "# use the code to install pdfminer from your installerish thing"
   ]
  },
  {
   "cell_type": "code",
   "execution_count": 2,
   "metadata": {},
   "outputs": [],
   "source": [
    "from typing import Container\n",
    "from io import BytesIO, StringIO\n",
    "from pdfminer.pdfinterp import PDFResourceManager, PDFPageInterpreter\n",
    "from pdfminer.converter import TextConverter, XMLConverter, HTMLConverter\n",
    "from pdfminer.layout import LAParams\n",
    "from pdfminer.pdfpage import PDFPage\n",
    "import re"
   ]
  },
  {
   "cell_type": "code",
   "execution_count": 3,
   "metadata": {},
   "outputs": [],
   "source": [
    "def get_pdf_file_content(path_to_pdf):\n",
    "    \n",
    "    '''\n",
    "    path_to_pdf: is the parameter that will give access to the PDF File \n",
    "    we want to extract the content.\n",
    "    '''\n",
    "    \n",
    "    '''\n",
    "    PDFResourceManager is used to store shared resources such as fonts or images that \n",
    "    we might encounter in the files. \n",
    "    '''\n",
    "    \n",
    "    resource_manager = PDFResourceManager(caching=True)\n",
    "    \n",
    "    '''\n",
    "    create a string object that will contain the final text the representation of the pdf. \n",
    "    '''\n",
    "    out_text = StringIO()\n",
    "    '''\n",
    "    UTF-8 is one of the most commonly used encodings, and Python often defaults to using it.\n",
    "    In our case, we are going to specify in order to avoid some encoding errors.\n",
    "    '''\n",
    "    codec = 'utf-8'\n",
    "    \n",
    "    \"\"\"\n",
    "    LAParams is the object containing the Layout parameters with a certain default value. \n",
    "    \"\"\"\n",
    "    laParams = LAParams()\n",
    "    \n",
    "    '''\n",
    "    Create a TextConverter Object, taking :\n",
    "    - ressource_manager,\n",
    "    - out_text \n",
    "    - layout parameters.\n",
    "    '''\n",
    "    text_converter = TextConverter(resource_manager, out_text, laparams=laParams)\n",
    "    fp = open(path_to_pdf, 'rb')\n",
    "    \n",
    "    '''\n",
    "    Create a PDF interpreter object taking: \n",
    "    - ressource_manager \n",
    "    - text_converter\n",
    "    '''\n",
    "    interpreter = PDFPageInterpreter(resource_manager, text_converter)\n",
    "\n",
    "    '''\n",
    "    We are going to process the content of each page of the original PDF File\n",
    "    '''\n",
    "    for page in PDFPage.get_pages(fp, pagenos=set(), maxpages=0, password=\"\", caching=True, check_extractable=True):\n",
    "        interpreter.process_page(page)\n",
    "\n",
    "    '''\n",
    "    Retrieve the entire contents of the “file” at any time \n",
    "    before the StringIO object’s close() method is called.\n",
    "    '''\n",
    "    text = out_text.getvalue()\n",
    "\n",
    "    '''\n",
    "    Closing all the ressources we previously opened\n",
    "    '''\n",
    "    fp.close()\n",
    "    text_converter.close()\n",
    "    out_text.close()\n",
    "    \n",
    "    '''\n",
    "    Return the final variable containing all the text of the PDF\n",
    "    '''\n",
    "    return text"
   ]
  },
  {
   "cell_type": "code",
   "execution_count": 4,
   "metadata": {},
   "outputs": [],
   "source": [
    "path = r\"C:\\Users\\iyusa\\Desktop\\2nd sem\\Scientific information\\jupyter notebook\\THE JAZZ TRANSFORMER ON THE FRONT LINE EXPLORING THE SHORTCOMINGS OF AI-COMPOSED MUSIC THROUGH QUANTITATIVE MEASURES, Wu.pdf\"\n",
    "text = get_pdf_file_content(path)\n",
    "#print(text)"
   ]
  },
  {
   "cell_type": "code",
   "execution_count": 5,
   "metadata": {},
   "outputs": [],
   "source": [
    "def del_all_after_reference(text):\n",
    "    text = text.lower()\n",
    "    idx = text.rfind(\"references\")\n",
    "    if idx >= 0:\n",
    "        text = text[:idx]\n",
    "    return text"
   ]
  },
  {
   "cell_type": "code",
   "execution_count": 6,
   "metadata": {},
   "outputs": [],
   "source": [
    "text = del_all_after_reference(text)"
   ]
  },
  {
   "cell_type": "code",
   "execution_count": 7,
   "metadata": {},
   "outputs": [],
   "source": [
    "def get_url(x):\n",
    "    url = re.findall('http[s]?://(?:[a-zA-Z]|[0-9]|[$-_@.&+]|[!*\\(\\),]|(?:%[0-9a-fA-F][0-9a-fA-F]))+', x)\n",
    "    return url"
   ]
  },
  {
   "cell_type": "code",
   "execution_count": 8,
   "metadata": {
    "scrolled": true
   },
   "outputs": [
    {
     "data": {
      "text/plain": [
       "['https://drive.google.com/drive/folders/',\n",
       " 'https://github.com/slseanwu/jazz_transformer',\n",
       " 'https://github.com/slseanwu/musdr']"
      ]
     },
     "execution_count": 8,
     "metadata": {},
     "output_type": "execute_result"
    }
   ],
   "source": [
    "result_url = get_url(text)\n",
    "result_url"
   ]
  },
  {
   "cell_type": "code",
   "execution_count": 9,
   "metadata": {},
   "outputs": [],
   "source": [
    "# Below starts retrieving from result_url above.\n",
    "# We will use beutifulsoup4 package, please install if you don't have this package\n",
    "# pip install beautifulsoup4\n",
    "# pip install requests"
   ]
  },
  {
   "cell_type": "code",
   "execution_count": 10,
   "metadata": {},
   "outputs": [],
   "source": [
    "import requests\n",
    "from bs4 import BeautifulSoup"
   ]
  },
  {
   "cell_type": "code",
   "execution_count": 11,
   "metadata": {},
   "outputs": [],
   "source": [
    "def retrieve_url(url):\n",
    "    response = requests.get(url)\n",
    "    url = BeautifulSoup(response.text, \"html.parser\")\n",
    "    return url.prettify()  #Outputs result in formatted HTML     "
   ]
  },
  {
   "cell_type": "code",
   "execution_count": 12,
   "metadata": {
    "scrolled": true
   },
   "outputs": [
    {
     "name": "stdout",
     "output_type": "stream",
     "text": [
      "https://drive.google.com/drive/folders/\n",
      "https://github.com/slseanwu/jazz_transformer\n",
      "https://github.com/slseanwu/musdr\n"
     ]
    }
   ],
   "source": [
    "for i in range(len(result_url)):\n",
    "    result = retrieve_url(result_url[i])\n",
    "    print (result_url[i])\n",
    "#    print (result)"
   ]
  },
  {
   "cell_type": "code",
   "execution_count": null,
   "metadata": {},
   "outputs": [],
   "source": []
  }
 ],
 "metadata": {
  "kernelspec": {
   "display_name": "Python 3",
   "language": "python",
   "name": "python3"
  },
  "language_info": {
   "codemirror_mode": {
    "name": "ipython",
    "version": 3
   },
   "file_extension": ".py",
   "mimetype": "text/x-python",
   "name": "python",
   "nbconvert_exporter": "python",
   "pygments_lexer": "ipython3",
   "version": "3.8.5"
  }
 },
 "nbformat": 4,
 "nbformat_minor": 4
}
